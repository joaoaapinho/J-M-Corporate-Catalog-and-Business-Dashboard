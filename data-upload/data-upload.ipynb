{
 "cells": [
  {
   "attachments": {},
   "cell_type": "markdown",
   "metadata": {},
   "source": [
    "J&M Corporate Catalog and Business Dashboard\n",
    "# **Data Upload:**\n",
    "### **J&M CSVs to MySQL Database**"
   ]
  },
  {
   "attachments": {},
   "cell_type": "markdown",
   "metadata": {},
   "source": [
    "--------------------------------------------------------------------------------------------------------------------------------------------------------------------------"
   ]
  },
  {
   "attachments": {},
   "cell_type": "markdown",
   "metadata": {},
   "source": [
    "### • **Import and Install the Necessary Libraries:**"
   ]
  },
  {
   "cell_type": "code",
   "execution_count": null,
   "metadata": {},
   "outputs": [],
   "source": [
    "# Run if needed.\n",
    "\n",
    "#!pip install pymysql\n",
    "#!pip install sqlalchemy"
   ]
  },
  {
   "cell_type": "code",
   "execution_count": null,
   "metadata": {},
   "outputs": [],
   "source": [
    "# Importing all the necessary libraries and modules.\n",
    "\n",
    "import os\n",
    "import sqlalchemy\n",
    "SQLALCHEMY_SILENCE_UBER_WARNING = 1\n",
    "import pandas as pd\n",
    "import pymysql\n",
    "import numpy as np\n",
    "from sqlalchemy import create_engine, engine, text"
   ]
  },
  {
   "attachments": {},
   "cell_type": "markdown",
   "metadata": {},
   "source": [
    "--------------------------------------------------------------------------------------------------------------------------------------------------------------------------"
   ]
  },
  {
   "attachments": {},
   "cell_type": "markdown",
   "metadata": {},
   "source": [
    "### • **Manage the Access to MySQL Database:**"
   ]
  },
  {
   "attachments": {},
   "cell_type": "markdown",
   "metadata": {},
   "source": [
    "#### - **Connect to the Database:**"
   ]
  },
  {
   "cell_type": "code",
   "execution_count": null,
   "metadata": {},
   "outputs": [],
   "source": [
    "# Connecting to the database.\n",
    "\n",
    "def connect_tcp_socket() -> sqlalchemy.engine.base.Engine:\n",
    "    \"\"\" Initializes a TCP connection pool for a Cloud SQL instance of MySQL. \"\"\"\n",
    "    # For security reasons, these credentials were only included in Google App Engine.\n",
    "    # ↓\n",
    "    db_host = \"\" \n",
    "    db_user = \"\" \n",
    "    db_pass = \"\" \n",
    "    db_name = \"\" \n",
    "    db_port =  x\n",
    "\n",
    "    engine = sqlalchemy.create_engine(\n",
    "        sqlalchemy.engine.url.URL.create(\n",
    "            drivername=\"mysql+pymysql\",\n",
    "            username=db_user,\n",
    "            password=db_pass,\n",
    "            host=db_host,\n",
    "            port=db_port,\n",
    "            database=db_name,\n",
    "        ),\n",
    "    )\n",
    "    \n",
    "    return engine\n",
    "\n",
    "# Check: The engine was properly set up."
   ]
  },
  {
   "cell_type": "code",
   "execution_count": null,
   "metadata": {},
   "outputs": [],
   "source": [
    "# Calling the function and connecting to the engine.\n",
    "\n",
    "engine = connect_tcp_socket() # engine will be MySQL\n",
    "conn = engine.connect() #connect to MySQL server\n",
    "\n",
    "#Check: The connection is settled."
   ]
  },
  {
   "attachments": {},
   "cell_type": "markdown",
   "metadata": {},
   "source": [
    "--------------------------------------------------------------------------------------------------------------------------------------------------------------------------"
   ]
  },
  {
   "attachments": {},
   "cell_type": "markdown",
   "metadata": {},
   "source": [
    "### • **Load the Data to MySQL Database:**"
   ]
  },
  {
   "attachments": {},
   "cell_type": "markdown",
   "metadata": {},
   "source": [
    "#### - **Read CSVs:**"
   ]
  },
  {
   "cell_type": "code",
   "execution_count": null,
   "metadata": {},
   "outputs": [],
   "source": [
    "# Reading Customers Dataset as CSV.\n",
    "customers_df = pd.read_csv('customers.csv')\n",
    "\n",
    "#Check"
   ]
  },
  {
   "cell_type": "code",
   "execution_count": null,
   "metadata": {},
   "outputs": [],
   "source": [
    "# Reading Customers Dataset as CSV\n",
    "transactions_full_df = pd.read_csv('transactions.csv')\n",
    "\n",
    "#Check"
   ]
  },
  {
   "cell_type": "code",
   "execution_count": null,
   "metadata": {},
   "outputs": [],
   "source": [
    "# Reading Customers Dataset as CSV\n",
    "articles_df = pd.read_csv('articles.csv')\n",
    "\n",
    "#Check"
   ]
  },
  {
   "attachments": {},
   "cell_type": "markdown",
   "metadata": {},
   "source": [
    "#### - **Join Dataframe Columns to Create a Final Dataframe:**"
   ]
  },
  {
   "cell_type": "code",
   "execution_count": null,
   "metadata": {},
   "outputs": [],
   "source": [
    "# Joining transactions_full_df with relevant article_df columns based on the article_id column\n",
    "joined_df = transactions_full_df.merge(articles_df[['article_id', 'product_type_name', 'colour_group_name']], on='article_id', how='left')\n",
    "\n",
    "# Joining the resulting dataframe with relevant customers_df columns based on the customer_id column\n",
    "final_df = joined_df.merge(customers_df[['customer_id','club_member_status', 'fashion_news_frequency', 'age']], on='customer_id', how='left')"
   ]
  },
  {
   "attachments": {},
   "cell_type": "markdown",
   "metadata": {},
   "source": [
    "#### - **Upload the Data from the Dataframes to the MySQL Database:**"
   ]
  },
  {
   "cell_type": "code",
   "execution_count": null,
   "metadata": {},
   "outputs": [],
   "source": [
    "# Uploading the Final Data Dataframe to the MySQL Database.\n",
    "\n",
    "# Chunk size for uploading the dataframe to MySQL.\n",
    "chunk_size = 100000\n",
    "\n",
    "# Looping through the dataframe in chunks and uploading them to MySQL.\n",
    "for i, chunk in enumerate(np.array_split(final_df, len(final_df) // chunk_size + 1)):\n",
    "    chunk.to_sql(name='final_data', con=conn, if_exists='append', index=False)\n",
    "    print(f'Uploaded chunk {i+1} of {len(final_df) // chunk_size + 1}')\n",
    "\n",
    "#Check"
   ]
  },
  {
   "attachments": {},
   "cell_type": "markdown",
   "metadata": {},
   "source": [
    "#### - **Check the Existing Data in the MySQL Database:**"
   ]
  },
  {
   "cell_type": "code",
   "execution_count": null,
   "metadata": {},
   "outputs": [],
   "source": [
    "# Checking if all the desired data was uploaded to the database.\n",
    "\n",
    "result = conn.execute(\"SHOW TABLES;\").fetchall()\n",
    "for r in result:\n",
    "    print(r)\n",
    "\n",
    "#Check"
   ]
  },
  {
   "attachments": {},
   "cell_type": "markdown",
   "metadata": {},
   "source": [
    "#### - **Create a Users Table for Catalog Registration and Login Validation:**"
   ]
  },
  {
   "cell_type": "code",
   "execution_count": null,
   "metadata": {},
   "outputs": [],
   "source": [
    "# Creating an empty table for storing and validating users' credentials.\n",
    "\n",
    "query = conn.execute(\"\"\" DROP TABLE IF NOT EXISTS users (\n",
    "        user_id INT NOT NULL AUTO_INCREMENT PRIMARY KEY,\n",
    "        username VARCHAR(255) NOT NULL,\n",
    "        password VARCHAR(255) NOT NULL\n",
    "        );\n",
    "    \"\"\")\n",
    "\n",
    "# Check: The table was successfully created with the desired field settings."
   ]
  },
  {
   "attachments": {},
   "cell_type": "markdown",
   "metadata": {},
   "source": [
    "#### - **Confirm that the Users Credentials were Correctly Stored:**"
   ]
  },
  {
   "cell_type": "code",
   "execution_count": null,
   "metadata": {},
   "outputs": [],
   "source": [
    "# Confirming that the user_id is incrementing by 1 and that the password is being stored in an hashing format.\n",
    "users_data_df = load_data(\"\"\"\n",
    "SELECT * \n",
    "FROM users\n",
    "\"\"\")\n",
    "\n",
    "users_data_df\n",
    "\n",
    "# Check: The user_id is incrementing by one with each user that registers and the password is being stored in an hashing format."
   ]
  }
 ],
 "metadata": {
  "kernelspec": {
   "display_name": "Python 3",
   "language": "python",
   "name": "python3"
  },
  "language_info": {
   "codemirror_mode": {
    "name": "ipython",
    "version": 3
   },
   "file_extension": ".py",
   "mimetype": "text/x-python",
   "name": "python",
   "nbconvert_exporter": "python",
   "pygments_lexer": "ipython3",
   "version": "3.11.2"
  },
  "orig_nbformat": 4
 },
 "nbformat": 4,
 "nbformat_minor": 2
}
